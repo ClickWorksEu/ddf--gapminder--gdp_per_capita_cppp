{
 "cells": [
  {
   "cell_type": "code",
   "execution_count": 13,
   "metadata": {
    "collapsed": true
   },
   "outputs": [],
   "source": [
    "import pandas as pd\n",
    "import os\n",
    "\n",
    "from ddf_utils.index import create_index_file\n",
    "from ddf_utils.str import to_concept_id"
   ]
  },
  {
   "cell_type": "code",
   "execution_count": 2,
   "metadata": {
    "collapsed": true
   },
   "outputs": [],
   "source": [
    "source = '../source/gdp_per_capita_cppp--by--geo--year--pivoted_datapoints.csv'"
   ]
  },
  {
   "cell_type": "code",
   "execution_count": 4,
   "metadata": {
    "collapsed": false
   },
   "outputs": [],
   "source": [
    "data = pd.read_csv(source, encoding='latin1')"
   ]
  },
  {
   "cell_type": "code",
   "execution_count": 5,
   "metadata": {
    "collapsed": false
   },
   "outputs": [
    {
     "data": {
      "text/html": [
       "<div>\n",
       "<table border=\"1\" class=\"dataframe\">\n",
       "  <thead>\n",
       "    <tr style=\"text-align: right;\">\n",
       "      <th></th>\n",
       "      <th>geo</th>\n",
       "      <th>1800</th>\n",
       "      <th>1801</th>\n",
       "      <th>1802</th>\n",
       "      <th>1803</th>\n",
       "      <th>1804</th>\n",
       "      <th>1805</th>\n",
       "      <th>1806</th>\n",
       "      <th>1807</th>\n",
       "      <th>1808</th>\n",
       "      <th>...</th>\n",
       "      <th>2031</th>\n",
       "      <th>2032</th>\n",
       "      <th>2033</th>\n",
       "      <th>2034</th>\n",
       "      <th>2035</th>\n",
       "      <th>2036</th>\n",
       "      <th>2037</th>\n",
       "      <th>2038</th>\n",
       "      <th>2039</th>\n",
       "      <th>2040</th>\n",
       "    </tr>\n",
       "  </thead>\n",
       "  <tbody>\n",
       "    <tr>\n",
       "      <th>0</th>\n",
       "      <td>Abkhazia</td>\n",
       "      <td>NaN</td>\n",
       "      <td>NaN</td>\n",
       "      <td>NaN</td>\n",
       "      <td>NaN</td>\n",
       "      <td>NaN</td>\n",
       "      <td>NaN</td>\n",
       "      <td>NaN</td>\n",
       "      <td>NaN</td>\n",
       "      <td>NaN</td>\n",
       "      <td>...</td>\n",
       "      <td>NaN</td>\n",
       "      <td>NaN</td>\n",
       "      <td>NaN</td>\n",
       "      <td>NaN</td>\n",
       "      <td>NaN</td>\n",
       "      <td>NaN</td>\n",
       "      <td>NaN</td>\n",
       "      <td>NaN</td>\n",
       "      <td>NaN</td>\n",
       "      <td>NaN</td>\n",
       "    </tr>\n",
       "    <tr>\n",
       "      <th>1</th>\n",
       "      <td>Afghanistan</td>\n",
       "      <td>603.0</td>\n",
       "      <td>603.0</td>\n",
       "      <td>603.0</td>\n",
       "      <td>603.0</td>\n",
       "      <td>603.0</td>\n",
       "      <td>603.0</td>\n",
       "      <td>603.0</td>\n",
       "      <td>603.0</td>\n",
       "      <td>603.0</td>\n",
       "      <td>...</td>\n",
       "      <td>3200.0</td>\n",
       "      <td>3294.0</td>\n",
       "      <td>3390.0</td>\n",
       "      <td>3487.0</td>\n",
       "      <td>3586.0</td>\n",
       "      <td>3686.0</td>\n",
       "      <td>3788.0</td>\n",
       "      <td>3891.0</td>\n",
       "      <td>3995.0</td>\n",
       "      <td>4101.0</td>\n",
       "    </tr>\n",
       "    <tr>\n",
       "      <th>2</th>\n",
       "      <td>Akrotiri and Dhekelia</td>\n",
       "      <td>NaN</td>\n",
       "      <td>NaN</td>\n",
       "      <td>NaN</td>\n",
       "      <td>NaN</td>\n",
       "      <td>NaN</td>\n",
       "      <td>NaN</td>\n",
       "      <td>NaN</td>\n",
       "      <td>NaN</td>\n",
       "      <td>NaN</td>\n",
       "      <td>...</td>\n",
       "      <td>NaN</td>\n",
       "      <td>NaN</td>\n",
       "      <td>NaN</td>\n",
       "      <td>NaN</td>\n",
       "      <td>NaN</td>\n",
       "      <td>NaN</td>\n",
       "      <td>NaN</td>\n",
       "      <td>NaN</td>\n",
       "      <td>NaN</td>\n",
       "      <td>NaN</td>\n",
       "    </tr>\n",
       "    <tr>\n",
       "      <th>3</th>\n",
       "      <td>Albania</td>\n",
       "      <td>667.0</td>\n",
       "      <td>667.0</td>\n",
       "      <td>668.0</td>\n",
       "      <td>668.0</td>\n",
       "      <td>668.0</td>\n",
       "      <td>668.0</td>\n",
       "      <td>668.0</td>\n",
       "      <td>668.0</td>\n",
       "      <td>668.0</td>\n",
       "      <td>...</td>\n",
       "      <td>21947.0</td>\n",
       "      <td>22796.0</td>\n",
       "      <td>23654.0</td>\n",
       "      <td>24521.0</td>\n",
       "      <td>25394.0</td>\n",
       "      <td>26273.0</td>\n",
       "      <td>27155.0</td>\n",
       "      <td>28039.0</td>\n",
       "      <td>28923.0</td>\n",
       "      <td>29806.0</td>\n",
       "    </tr>\n",
       "    <tr>\n",
       "      <th>4</th>\n",
       "      <td>Algeria</td>\n",
       "      <td>716.0</td>\n",
       "      <td>716.0</td>\n",
       "      <td>717.0</td>\n",
       "      <td>718.0</td>\n",
       "      <td>719.0</td>\n",
       "      <td>720.0</td>\n",
       "      <td>721.0</td>\n",
       "      <td>722.0</td>\n",
       "      <td>723.0</td>\n",
       "      <td>...</td>\n",
       "      <td>18671.0</td>\n",
       "      <td>19080.0</td>\n",
       "      <td>19501.0</td>\n",
       "      <td>19935.0</td>\n",
       "      <td>20382.0</td>\n",
       "      <td>20843.0</td>\n",
       "      <td>21318.0</td>\n",
       "      <td>21808.0</td>\n",
       "      <td>22313.0</td>\n",
       "      <td>22833.0</td>\n",
       "    </tr>\n",
       "  </tbody>\n",
       "</table>\n",
       "<p>5 rows × 242 columns</p>\n",
       "</div>"
      ],
      "text/plain": [
       "                     geo   1800   1801   1802   1803   1804   1805   1806  \\\n",
       "0               Abkhazia    NaN    NaN    NaN    NaN    NaN    NaN    NaN   \n",
       "1            Afghanistan  603.0  603.0  603.0  603.0  603.0  603.0  603.0   \n",
       "2  Akrotiri and Dhekelia    NaN    NaN    NaN    NaN    NaN    NaN    NaN   \n",
       "3                Albania  667.0  667.0  668.0  668.0  668.0  668.0  668.0   \n",
       "4                Algeria  716.0  716.0  717.0  718.0  719.0  720.0  721.0   \n",
       "\n",
       "    1807   1808   ...        2031     2032     2033     2034     2035  \\\n",
       "0    NaN    NaN   ...         NaN      NaN      NaN      NaN      NaN   \n",
       "1  603.0  603.0   ...      3200.0   3294.0   3390.0   3487.0   3586.0   \n",
       "2    NaN    NaN   ...         NaN      NaN      NaN      NaN      NaN   \n",
       "3  668.0  668.0   ...     21947.0  22796.0  23654.0  24521.0  25394.0   \n",
       "4  722.0  723.0   ...     18671.0  19080.0  19501.0  19935.0  20382.0   \n",
       "\n",
       "      2036     2037     2038     2039     2040  \n",
       "0      NaN      NaN      NaN      NaN      NaN  \n",
       "1   3686.0   3788.0   3891.0   3995.0   4101.0  \n",
       "2      NaN      NaN      NaN      NaN      NaN  \n",
       "3  26273.0  27155.0  28039.0  28923.0  29806.0  \n",
       "4  20843.0  21318.0  21808.0  22313.0  22833.0  \n",
       "\n",
       "[5 rows x 242 columns]"
      ]
     },
     "execution_count": 5,
     "metadata": {},
     "output_type": "execute_result"
    }
   ],
   "source": [
    "data.head()"
   ]
  },
  {
   "cell_type": "code",
   "execution_count": 9,
   "metadata": {
    "collapsed": true
   },
   "outputs": [],
   "source": [
    "country = pd.read_csv('../../../ddf--gapminder--geo_entity_domain/ddf--entities--geo--country.csv')"
   ]
  },
  {
   "cell_type": "code",
   "execution_count": null,
   "metadata": {
    "collapsed": true
   },
   "outputs": [],
   "source": []
  },
  {
   "cell_type": "code",
   "execution_count": null,
   "metadata": {
    "collapsed": true
   },
   "outputs": [],
   "source": []
  },
  {
   "cell_type": "code",
   "execution_count": 10,
   "metadata": {
    "collapsed": true
   },
   "outputs": [],
   "source": [
    "data = data.set_index('geo')"
   ]
  },
  {
   "cell_type": "code",
   "execution_count": 11,
   "metadata": {
    "collapsed": true
   },
   "outputs": [],
   "source": [
    "data = data.stack().reset_index()"
   ]
  },
  {
   "cell_type": "code",
   "execution_count": 27,
   "metadata": {
    "collapsed": false
   },
   "outputs": [],
   "source": [
    "cname = 'GDP per capita, constant PPP'\n",
    "# cid = to_concept_id(cname)\n",
    "cid = 'gdp_per_capita_cppp'"
   ]
  },
  {
   "cell_type": "code",
   "execution_count": 28,
   "metadata": {
    "collapsed": true
   },
   "outputs": [],
   "source": [
    "data.columns = ['geo', 'time', cid]"
   ]
  },
  {
   "cell_type": "code",
   "execution_count": 29,
   "metadata": {
    "collapsed": false
   },
   "outputs": [
    {
     "data": {
      "text/html": [
       "<div>\n",
       "<table border=\"1\" class=\"dataframe\">\n",
       "  <thead>\n",
       "    <tr style=\"text-align: right;\">\n",
       "      <th></th>\n",
       "      <th>geo</th>\n",
       "      <th>time</th>\n",
       "      <th>gdp_per_capita_cppp</th>\n",
       "    </tr>\n",
       "  </thead>\n",
       "  <tbody>\n",
       "    <tr>\n",
       "      <th>0</th>\n",
       "      <td>afg</td>\n",
       "      <td>1800</td>\n",
       "      <td>603.0</td>\n",
       "    </tr>\n",
       "    <tr>\n",
       "      <th>1</th>\n",
       "      <td>afg</td>\n",
       "      <td>1801</td>\n",
       "      <td>603.0</td>\n",
       "    </tr>\n",
       "    <tr>\n",
       "      <th>2</th>\n",
       "      <td>afg</td>\n",
       "      <td>1802</td>\n",
       "      <td>603.0</td>\n",
       "    </tr>\n",
       "    <tr>\n",
       "      <th>3</th>\n",
       "      <td>afg</td>\n",
       "      <td>1803</td>\n",
       "      <td>603.0</td>\n",
       "    </tr>\n",
       "    <tr>\n",
       "      <th>4</th>\n",
       "      <td>afg</td>\n",
       "      <td>1804</td>\n",
       "      <td>603.0</td>\n",
       "    </tr>\n",
       "  </tbody>\n",
       "</table>\n",
       "</div>"
      ],
      "text/plain": [
       "   geo  time  gdp_per_capita_cppp\n",
       "0  afg  1800                603.0\n",
       "1  afg  1801                603.0\n",
       "2  afg  1802                603.0\n",
       "3  afg  1803                603.0\n",
       "4  afg  1804                603.0"
      ]
     },
     "execution_count": 29,
     "metadata": {},
     "output_type": "execute_result"
    }
   ],
   "source": [
    "data.head()"
   ]
  },
  {
   "cell_type": "code",
   "execution_count": null,
   "metadata": {
    "collapsed": true
   },
   "outputs": [],
   "source": []
  },
  {
   "cell_type": "code",
   "execution_count": null,
   "metadata": {
    "collapsed": true
   },
   "outputs": [],
   "source": []
  },
  {
   "cell_type": "code",
   "execution_count": 17,
   "metadata": {
    "collapsed": true
   },
   "outputs": [],
   "source": [
    "geo_upper = data.geo.unique()"
   ]
  },
  {
   "cell_type": "code",
   "execution_count": 18,
   "metadata": {
    "collapsed": true
   },
   "outputs": [],
   "source": [
    "mapping = {}\n",
    "\n",
    "for g in geo_upper:\n",
    "    m0 = country['name'] == g\n",
    "    m1 = country['gapminder_list'] == g\n",
    "    \n",
    "    m = m0 | m1\n",
    "    filtered = country[m]\n",
    "    if len(filtered) > 0:\n",
    "        mapping[g] = filtered['country'].values[0]\n",
    "    else:\n",
    "        print('not found: ', g)"
   ]
  },
  {
   "cell_type": "code",
   "execution_count": 19,
   "metadata": {
    "collapsed": false,
    "scrolled": false
   },
   "outputs": [
    {
     "data": {
      "text/plain": [
       "{'Afghanistan': 'afg',\n",
       " 'Albania': 'alb',\n",
       " 'Algeria': 'dza',\n",
       " 'Andorra': 'and',\n",
       " 'Angola': 'ago',\n",
       " 'Antigua and Barbuda': 'atg',\n",
       " 'Argentina': 'arg',\n",
       " 'Armenia': 'arm',\n",
       " 'Aruba': 'abw',\n",
       " 'Australia': 'aus',\n",
       " 'Austria': 'aut',\n",
       " 'Azerbaijan': 'aze',\n",
       " 'Bahamas': 'bhs',\n",
       " 'Bahrain': 'bhr',\n",
       " 'Bangladesh': 'bgd',\n",
       " 'Barbados': 'brb',\n",
       " 'Belarus': 'blr',\n",
       " 'Belgium': 'bel',\n",
       " 'Belize': 'blz',\n",
       " 'Benin': 'ben',\n",
       " 'Bermuda': 'bmu',\n",
       " 'Bhutan': 'btn',\n",
       " 'Bolivia': 'bol',\n",
       " 'Bosnia and Herzegovina': 'bih',\n",
       " 'Botswana': 'bwa',\n",
       " 'Brazil': 'bra',\n",
       " 'Brunei': 'brn',\n",
       " 'Bulgaria': 'bgr',\n",
       " 'Burkina Faso': 'bfa',\n",
       " 'Burundi': 'bdi',\n",
       " 'Cambodia': 'khm',\n",
       " 'Cameroon': 'cmr',\n",
       " 'Canada': 'can',\n",
       " 'Cape Verde': 'cpv',\n",
       " 'Cayman Islands': 'cym',\n",
       " 'Central African Republic': 'caf',\n",
       " 'Chad': 'tcd',\n",
       " 'Chile': 'chl',\n",
       " 'China': 'chn',\n",
       " 'Colombia': 'col',\n",
       " 'Comoros': 'com',\n",
       " 'Congo, Dem. Rep.': 'cod',\n",
       " 'Congo, Rep.': 'cog',\n",
       " 'Costa Rica': 'cri',\n",
       " \"Cote d'Ivoire\": 'civ',\n",
       " 'Croatia': 'hrv',\n",
       " 'Cuba': 'cub',\n",
       " 'Cyprus': 'cyp',\n",
       " 'Czech Republic': 'cze',\n",
       " 'Denmark': 'dnk',\n",
       " 'Djibouti': 'dji',\n",
       " 'Dominica': 'dma',\n",
       " 'Dominican Republic': 'dom',\n",
       " 'Ecuador': 'ecu',\n",
       " 'Egypt': 'egy',\n",
       " 'El Salvador': 'slv',\n",
       " 'Equatorial Guinea': 'gnq',\n",
       " 'Eritrea': 'eri',\n",
       " 'Estonia': 'est',\n",
       " 'Ethiopia': 'eth',\n",
       " 'Fiji': 'fji',\n",
       " 'Finland': 'fin',\n",
       " 'France': 'fra',\n",
       " 'Gabon': 'gab',\n",
       " 'Gambia': 'gmb',\n",
       " 'Georgia': 'geo',\n",
       " 'Germany': 'deu',\n",
       " 'Ghana': 'gha',\n",
       " 'Greece': 'grc',\n",
       " 'Greenland': 'grl',\n",
       " 'Grenada': 'grd',\n",
       " 'Guatemala': 'gtm',\n",
       " 'Guinea': 'gin',\n",
       " 'Guinea-Bissau': 'gnb',\n",
       " 'Guyana': 'guy',\n",
       " 'Haiti': 'hti',\n",
       " 'Honduras': 'hnd',\n",
       " 'Hong Kong, China': 'hkg',\n",
       " 'Hungary': 'hun',\n",
       " 'Iceland': 'isl',\n",
       " 'India': 'ind',\n",
       " 'Indonesia': 'idn',\n",
       " 'Iran': 'irn',\n",
       " 'Iraq': 'irq',\n",
       " 'Ireland': 'irl',\n",
       " 'Israel': 'isr',\n",
       " 'Italy': 'ita',\n",
       " 'Jamaica': 'jam',\n",
       " 'Japan': 'jpn',\n",
       " 'Jordan': 'jor',\n",
       " 'Kazakhstan': 'kaz',\n",
       " 'Kenya': 'ken',\n",
       " 'Kiribati': 'kir',\n",
       " 'Kosovo': 'kos',\n",
       " 'Kuwait': 'kwt',\n",
       " 'Kyrgyz Republic': 'kgz',\n",
       " 'Lao': 'lao',\n",
       " 'Latvia': 'lva',\n",
       " 'Lebanon': 'lbn',\n",
       " 'Lesotho': 'lso',\n",
       " 'Liberia': 'lbr',\n",
       " 'Libya': 'lby',\n",
       " 'Lithuania': 'ltu',\n",
       " 'Luxembourg': 'lux',\n",
       " 'Macao, China': 'mac',\n",
       " 'Macedonia, FYR': 'mkd',\n",
       " 'Madagascar': 'mdg',\n",
       " 'Malawi': 'mwi',\n",
       " 'Malaysia': 'mys',\n",
       " 'Maldives': 'mdv',\n",
       " 'Mali': 'mli',\n",
       " 'Malta': 'mlt',\n",
       " 'Marshall Islands': 'mhl',\n",
       " 'Mauritania': 'mrt',\n",
       " 'Mauritius': 'mus',\n",
       " 'Mexico': 'mex',\n",
       " 'Micronesia, Fed. Sts.': 'fsm',\n",
       " 'Moldova': 'mda',\n",
       " 'Monaco': 'mco',\n",
       " 'Mongolia': 'mng',\n",
       " 'Montenegro': 'mne',\n",
       " 'Morocco': 'mar',\n",
       " 'Mozambique': 'moz',\n",
       " 'Myanmar': 'mmr',\n",
       " 'Namibia': 'nam',\n",
       " 'Nauru': 'nru',\n",
       " 'Nepal': 'npl',\n",
       " 'Netherlands': 'nld',\n",
       " 'New Zealand': 'nzl',\n",
       " 'Nicaragua': 'nic',\n",
       " 'Niger': 'ner',\n",
       " 'Nigeria': 'nga',\n",
       " 'North Korea': 'prk',\n",
       " 'Norway': 'nor',\n",
       " 'Oman': 'omn',\n",
       " 'Pakistan': 'pak',\n",
       " 'Palau': 'plw',\n",
       " 'Panama': 'pan',\n",
       " 'Papua New Guinea': 'png',\n",
       " 'Paraguay': 'pry',\n",
       " 'Peru': 'per',\n",
       " 'Philippines': 'phl',\n",
       " 'Poland': 'pol',\n",
       " 'Portugal': 'prt',\n",
       " 'Puerto Rico': 'pri',\n",
       " 'Qatar': 'qat',\n",
       " 'Romania': 'rou',\n",
       " 'Russia': 'rus',\n",
       " 'Rwanda': 'rwa',\n",
       " 'Samoa': 'wsm',\n",
       " 'San Marino': 'smr',\n",
       " 'Sao Tome and Principe': 'stp',\n",
       " 'Saudi Arabia': 'sau',\n",
       " 'Senegal': 'sen',\n",
       " 'Serbia': 'srb',\n",
       " 'Seychelles': 'syc',\n",
       " 'Sierra Leone': 'sle',\n",
       " 'Singapore': 'sgp',\n",
       " 'Sint Maarten (Dutch part)': 'sxm',\n",
       " 'Slovak Republic': 'svk',\n",
       " 'Slovenia': 'svn',\n",
       " 'Solomon Islands': 'slb',\n",
       " 'Somalia': 'som',\n",
       " 'South Africa': 'zaf',\n",
       " 'South Korea': 'kor',\n",
       " 'South Sudan': 'ssd',\n",
       " 'Spain': 'esp',\n",
       " 'Sri Lanka': 'lka',\n",
       " 'St. Kitts and Nevis': 'kna',\n",
       " 'St. Lucia': 'lca',\n",
       " 'St. Vincent and the Grenadines': 'vct',\n",
       " 'Sudan': 'sdn',\n",
       " 'Suriname': 'sur',\n",
       " 'Swaziland': 'swz',\n",
       " 'Sweden': 'swe',\n",
       " 'Switzerland': 'che',\n",
       " 'Syria': 'syr',\n",
       " 'Taiwan': 'twn',\n",
       " 'Tajikistan': 'tjk',\n",
       " 'Tanzania': 'tza',\n",
       " 'Thailand': 'tha',\n",
       " 'Timor-Leste': 'tls',\n",
       " 'Togo': 'tgo',\n",
       " 'Tonga': 'ton',\n",
       " 'Trinidad and Tobago': 'tto',\n",
       " 'Tunisia': 'tun',\n",
       " 'Turkey': 'tur',\n",
       " 'Turkmenistan': 'tkm',\n",
       " 'Turks and Caicos Islands': 'tca',\n",
       " 'Tuvalu': 'tuv',\n",
       " 'Uganda': 'uga',\n",
       " 'Ukraine': 'ukr',\n",
       " 'United Arab Emirates': 'are',\n",
       " 'United Kingdom': 'gbr',\n",
       " 'United States': 'usa',\n",
       " 'Uruguay': 'ury',\n",
       " 'Uzbekistan': 'uzb',\n",
       " 'Vanuatu': 'vut',\n",
       " 'Venezuela': 'ven',\n",
       " 'Vietnam': 'vnm',\n",
       " 'West Bank and Gaza': 'pse',\n",
       " 'Yemen': 'yem',\n",
       " 'Zambia': 'zmb',\n",
       " 'Zimbabwe': 'zwe'}"
      ]
     },
     "execution_count": 19,
     "metadata": {},
     "output_type": "execute_result"
    }
   ],
   "source": [
    "mapping"
   ]
  },
  {
   "cell_type": "code",
   "execution_count": null,
   "metadata": {
    "collapsed": true
   },
   "outputs": [],
   "source": []
  },
  {
   "cell_type": "code",
   "execution_count": null,
   "metadata": {
    "collapsed": true
   },
   "outputs": [],
   "source": []
  },
  {
   "cell_type": "code",
   "execution_count": 20,
   "metadata": {
    "collapsed": true
   },
   "outputs": [],
   "source": [
    "data.geo = data.geo.map(lambda x: mapping[x])"
   ]
  },
  {
   "cell_type": "code",
   "execution_count": 21,
   "metadata": {
    "collapsed": false
   },
   "outputs": [
    {
     "data": {
      "text/html": [
       "<div>\n",
       "<table border=\"1\" class=\"dataframe\">\n",
       "  <thead>\n",
       "    <tr style=\"text-align: right;\">\n",
       "      <th></th>\n",
       "      <th>geo</th>\n",
       "      <th>time</th>\n",
       "      <th>gdp_per_capita_constant_ppp</th>\n",
       "    </tr>\n",
       "  </thead>\n",
       "  <tbody>\n",
       "    <tr>\n",
       "      <th>48709</th>\n",
       "      <td>ssd</td>\n",
       "      <td>2037</td>\n",
       "      <td>4419.0</td>\n",
       "    </tr>\n",
       "    <tr>\n",
       "      <th>48710</th>\n",
       "      <td>ssd</td>\n",
       "      <td>2038</td>\n",
       "      <td>4512.0</td>\n",
       "    </tr>\n",
       "    <tr>\n",
       "      <th>48711</th>\n",
       "      <td>ssd</td>\n",
       "      <td>2039</td>\n",
       "      <td>4610.0</td>\n",
       "    </tr>\n",
       "    <tr>\n",
       "      <th>48712</th>\n",
       "      <td>ssd</td>\n",
       "      <td>2040</td>\n",
       "      <td>4711.0</td>\n",
       "    </tr>\n",
       "    <tr>\n",
       "      <th>48713</th>\n",
       "      <td>sxm</td>\n",
       "      <td>2011</td>\n",
       "      <td>36327.0</td>\n",
       "    </tr>\n",
       "  </tbody>\n",
       "</table>\n",
       "</div>"
      ],
      "text/plain": [
       "       geo  time  gdp_per_capita_constant_ppp\n",
       "48709  ssd  2037                       4419.0\n",
       "48710  ssd  2038                       4512.0\n",
       "48711  ssd  2039                       4610.0\n",
       "48712  ssd  2040                       4711.0\n",
       "48713  sxm  2011                      36327.0"
      ]
     },
     "execution_count": 21,
     "metadata": {},
     "output_type": "execute_result"
    }
   ],
   "source": [
    "data.tail()"
   ]
  },
  {
   "cell_type": "code",
   "execution_count": 23,
   "metadata": {
    "collapsed": false
   },
   "outputs": [
    {
     "data": {
      "text/plain": [
       "False"
      ]
     },
     "execution_count": 23,
     "metadata": {},
     "output_type": "execute_result"
    }
   ],
   "source": [
    "data.geo.hasnans"
   ]
  },
  {
   "cell_type": "code",
   "execution_count": 30,
   "metadata": {
    "collapsed": true
   },
   "outputs": [],
   "source": [
    "data.to_csv('../../ddf--datapoints--{}--by--geo--time.csv'.format(cid), index=False, float_format='%.15g')"
   ]
  },
  {
   "cell_type": "code",
   "execution_count": null,
   "metadata": {
    "collapsed": true
   },
   "outputs": [],
   "source": []
  },
  {
   "cell_type": "code",
   "execution_count": 40,
   "metadata": {
    "collapsed": true
   },
   "outputs": [],
   "source": [
    "concepts = ['Name', 'Time', cname, 'Domain', 'Country', 'Indicator URL']\n",
    "ids = ['name', 'time', cid, 'domain', 'geo', 'indicator_url']\n",
    "\n",
    "cdf = pd.DataFrame({'concept': ids, 'name': concepts})"
   ]
  },
  {
   "cell_type": "code",
   "execution_count": 41,
   "metadata": {
    "collapsed": true
   },
   "outputs": [],
   "source": [
    "cdf['concept_type'] = 'string'\n",
    "\n",
    "\n",
    "cdf.loc[1, 'concept_type'] = 'time'\n",
    "cdf.loc[2, 'concept_type'] = 'measure'\n",
    "cdf.loc[4, 'concept_type'] = 'entity_domain'"
   ]
  },
  {
   "cell_type": "code",
   "execution_count": 42,
   "metadata": {
    "collapsed": true
   },
   "outputs": [],
   "source": [
    "cdf.loc[2, 'indicator_url'] = 'https://github.com/open-numbers/ddf--gapminder--gdp_per_capita_cppp'"
   ]
  },
  {
   "cell_type": "code",
   "execution_count": 43,
   "metadata": {
    "collapsed": true
   },
   "outputs": [],
   "source": [
    "cdf.to_csv('../../ddf--concepts.csv', index=False)"
   ]
  },
  {
   "cell_type": "code",
   "execution_count": null,
   "metadata": {
    "collapsed": true
   },
   "outputs": [],
   "source": []
  },
  {
   "cell_type": "code",
   "execution_count": null,
   "metadata": {
    "collapsed": true
   },
   "outputs": [],
   "source": []
  },
  {
   "cell_type": "code",
   "execution_count": 33,
   "metadata": {
    "collapsed": true
   },
   "outputs": [],
   "source": [
    "geo_df = pd.DataFrame.from_records(mapping, index=[0])"
   ]
  },
  {
   "cell_type": "code",
   "execution_count": 34,
   "metadata": {
    "collapsed": true
   },
   "outputs": [],
   "source": [
    "geo_df = geo_df.T"
   ]
  },
  {
   "cell_type": "code",
   "execution_count": 35,
   "metadata": {
    "collapsed": true
   },
   "outputs": [],
   "source": [
    "geo_df = geo_df.reset_index()"
   ]
  },
  {
   "cell_type": "code",
   "execution_count": 36,
   "metadata": {
    "collapsed": true
   },
   "outputs": [],
   "source": [
    "geo_df.columns = ['name', 'geo']"
   ]
  },
  {
   "cell_type": "code",
   "execution_count": 37,
   "metadata": {
    "collapsed": true
   },
   "outputs": [],
   "source": [
    "geo_df.to_csv('../../ddf--entities--geo.csv', index=False)"
   ]
  },
  {
   "cell_type": "code",
   "execution_count": null,
   "metadata": {
    "collapsed": true
   },
   "outputs": [],
   "source": []
  },
  {
   "cell_type": "code",
   "execution_count": 44,
   "metadata": {
    "collapsed": false
   },
   "outputs": [
    {
     "data": {
      "text/html": [
       "<div>\n",
       "<table border=\"1\" class=\"dataframe\">\n",
       "  <thead>\n",
       "    <tr style=\"text-align: right;\">\n",
       "      <th></th>\n",
       "      <th>key</th>\n",
       "      <th>value</th>\n",
       "      <th>file</th>\n",
       "    </tr>\n",
       "  </thead>\n",
       "  <tbody>\n",
       "    <tr>\n",
       "      <th>0</th>\n",
       "      <td>concept</td>\n",
       "      <td>name</td>\n",
       "      <td>ddf--concepts.csv</td>\n",
       "    </tr>\n",
       "    <tr>\n",
       "      <th>1</th>\n",
       "      <td>concept</td>\n",
       "      <td>concept_type</td>\n",
       "      <td>ddf--concepts.csv</td>\n",
       "    </tr>\n",
       "    <tr>\n",
       "      <th>2</th>\n",
       "      <td>concept</td>\n",
       "      <td>indicator_url</td>\n",
       "      <td>ddf--concepts.csv</td>\n",
       "    </tr>\n",
       "    <tr>\n",
       "      <th>3</th>\n",
       "      <td>geo,time</td>\n",
       "      <td>gdp_per_capita_cppp</td>\n",
       "      <td>ddf--datapoints--gdp_per_capita_cppp--by--geo-...</td>\n",
       "    </tr>\n",
       "    <tr>\n",
       "      <th>4</th>\n",
       "      <td>geo</td>\n",
       "      <td>name</td>\n",
       "      <td>ddf--entities--geo.csv</td>\n",
       "    </tr>\n",
       "  </tbody>\n",
       "</table>\n",
       "</div>"
      ],
      "text/plain": [
       "        key                value  \\\n",
       "0   concept                 name   \n",
       "1   concept         concept_type   \n",
       "2   concept        indicator_url   \n",
       "3  geo,time  gdp_per_capita_cppp   \n",
       "4       geo                 name   \n",
       "\n",
       "                                                file  \n",
       "0                                  ddf--concepts.csv  \n",
       "1                                  ddf--concepts.csv  \n",
       "2                                  ddf--concepts.csv  \n",
       "3  ddf--datapoints--gdp_per_capita_cppp--by--geo-...  \n",
       "4                             ddf--entities--geo.csv  "
      ]
     },
     "execution_count": 44,
     "metadata": {},
     "output_type": "execute_result"
    }
   ],
   "source": [
    "create_index_file('../../')"
   ]
  },
  {
   "cell_type": "code",
   "execution_count": null,
   "metadata": {
    "collapsed": true
   },
   "outputs": [],
   "source": []
  },
  {
   "cell_type": "code",
   "execution_count": 45,
   "metadata": {
    "collapsed": false
   },
   "outputs": [
    {
     "name": "stdout",
     "output_type": "stream",
     "text": [
      "[\n",
      "{}]\n",
      "\n"
     ]
    }
   ],
   "source": [
    "!validate-ddf ../../"
   ]
  },
  {
   "cell_type": "code",
   "execution_count": null,
   "metadata": {
    "collapsed": true
   },
   "outputs": [],
   "source": []
  }
 ],
 "metadata": {
  "kernelspec": {
   "display_name": "Python 3",
   "language": "python",
   "name": "python3"
  },
  "language_info": {
   "codemirror_mode": {
    "name": "ipython",
    "version": 3
   },
   "file_extension": ".py",
   "mimetype": "text/x-python",
   "name": "python",
   "nbconvert_exporter": "python",
   "pygments_lexer": "ipython3",
   "version": "3.5.2"
  }
 },
 "nbformat": 4,
 "nbformat_minor": 0
}
